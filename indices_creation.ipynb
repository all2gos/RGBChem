{
 "cells": [
  {
   "cell_type": "code",
   "execution_count": 15,
   "id": "78b4cf64-d7f2-4971-8f6f-a9d41f7c93f0",
   "metadata": {},
   "outputs": [
    {
     "name": "stdout",
     "output_type": "stream",
     "text": [
      "3991 22289 133883\n"
     ]
    }
   ],
   "source": [
    "import pandas as pd\n",
    "from scripts.test_indices import *\n",
    "import random\n",
    "\n",
    "qm7_all = pd.read_csv('qm7_demo.csv').ID.tolist()\n",
    "qm7_all = [int(x.split('_')[1]) for x in qm7_all]\n",
    "\n",
    "qm8_all = pd.read_csv('qm8_demo.csv').ID.tolist()\n",
    "qm8_all = [int(x.split('_')[1]) for x in qm8_all]\n",
    "\n",
    "qm9_all = pd.read_csv('qm9.csv').ID.tolist()\n",
    "qm9_all = [int(x.split('_')[1]) for x in qm9_all]\n",
    "\n",
    "print(f\"{len(qm7_all)} {len(qm8_all)} {len(qm9_all)}\")"
   ]
  },
  {
   "cell_type": "markdown",
   "id": "da863288-8c39-4e5b-b599-b697bfadb7ed",
   "metadata": {},
   "source": [
    "## QM7 on QM8 and QM9"
   ]
  },
  {
   "cell_type": "code",
   "execution_count": 30,
   "id": "8d4c863d-5767-4b05-9c76-2cbf81df1cde",
   "metadata": {},
   "outputs": [
    {
     "data": {
      "text/plain": [
       "[3975, 3988, 3993, 4005, 4007, 4021, 4027, 4068, 4093, 4144]"
      ]
     },
     "execution_count": 30,
     "metadata": {},
     "output_type": "execute_result"
    }
   ],
   "source": [
    "# tu sprawa jest prosta, losuje po prostu takie indeksy z qm8 i qm9, ktore nie zawierają się w zbiorze qm7\n",
    "\n",
    "qm8_without_qm7 = [idx for idx in qm8_all if idx not in qm7_all]\n",
    "len(qm8_without_qm7)\n",
    "\n",
    "qm7_bench_for_qm8 = sorted(random.sample(qm8_without_qm7,1000))\n",
    "qm7_bench_for_qm8[:10]"
   ]
  },
  {
   "cell_type": "code",
   "execution_count": 31,
   "id": "e6a943ca-dc8a-454e-a25d-e67907f4bd51",
   "metadata": {},
   "outputs": [
    {
     "data": {
      "text/plain": [
       "[3980, 4014, 4207, 4262, 4429, 4584, 4593, 4714, 4752, 4768]"
      ]
     },
     "execution_count": 31,
     "metadata": {},
     "output_type": "execute_result"
    }
   ],
   "source": [
    "qm9_without_qm7 = [idx for idx in qm9_all if idx not in qm7_all]\n",
    "len(qm9_without_qm7)\n",
    "\n",
    "qm7_bench_for_qm9 = sorted(random.sample(qm9_without_qm7,1000))\n",
    "qm7_bench_for_qm9[:10]"
   ]
  },
  {
   "cell_type": "markdown",
   "id": "28248208-62e3-41fd-b169-855d9ad715f0",
   "metadata": {},
   "source": [
    "## QM8"
   ]
  },
  {
   "cell_type": "code",
   "execution_count": 32,
   "id": "4a968886-74f2-48d6-86a4-7fcaf6e5585c",
   "metadata": {},
   "outputs": [
    {
     "name": "stdout",
     "output_type": "stream",
     "text": [
      "401\n"
     ]
    },
    {
     "data": {
      "text/plain": [
       "[4, 7, 20, 41, 43, 50, 79, 89, 90, 107]"
      ]
     },
     "execution_count": 32,
     "metadata": {},
     "output_type": "execute_result"
    }
   ],
   "source": [
    "#dla qm7: losuje z tych indeksów z qm7, które nie znajdują się w zbiorze treningowym dla qm8\n",
    "\n",
    "qm8_in_train = [idx for idx in qm8_all if idx not in qm8_demo] #tu akurat latwo\n",
    "\n",
    "qm8_bench_for_qm7 = [idx for idx in qm7_all if idx not in qm8_in_train]\n",
    "print(len(qm8_bench_for_qm7))\n",
    "sorted(qm8_bench_for_qm7)[:10]"
   ]
  },
  {
   "cell_type": "code",
   "execution_count": 35,
   "id": "26603656-28db-4efe-b181-950f536b33b8",
   "metadata": {},
   "outputs": [
    {
     "name": "stdout",
     "output_type": "stream",
     "text": [
      "1000\n"
     ]
    },
    {
     "data": {
      "text/plain": [
       "[22019, 22294, 22323, 22473, 22709, 22898, 22932, 23147, 23206, 23419]"
      ]
     },
     "execution_count": 35,
     "metadata": {},
     "output_type": "execute_result"
    }
   ],
   "source": [
    "#dla qm9: losuje z indeksow qm9, ktore nie zawieraja sie w zbiorze qm8\n",
    "\n",
    "init_selection = [idx for idx in qm9_all if idx not in qm8_all]\n",
    "\n",
    "print(len(qm8_bench_for_qm9))\n",
    "qm8_bench_for_qm9 = sorted(random.sample(init_selection, 1000))\n",
    "qm8_bench_for_qm9[:10]"
   ]
  },
  {
   "cell_type": "markdown",
   "id": "ad0e3e38-63d3-41fc-8845-76c898143173",
   "metadata": {},
   "source": [
    "## QM9"
   ]
  },
  {
   "cell_type": "code",
   "execution_count": 37,
   "id": "88f5bb9d-1278-4586-b7df-cef4c6fc6cb8",
   "metadata": {},
   "outputs": [
    {
     "name": "stdout",
     "output_type": "stream",
     "text": [
      "404\n"
     ]
    },
    {
     "data": {
      "text/plain": [
       "[2, 8, 10, 12, 19, 30, 86, 97, 102, 109]"
      ]
     },
     "execution_count": 37,
     "metadata": {},
     "output_type": "execute_result"
    }
   ],
   "source": [
    "#dla qm7: losuje z tych indeksów qm7, które nie znajdują się w zbiorze treningowym dla qm9\n",
    "\n",
    "qm9_in_train = [idx for idx in qm9_all if idx not in qm9] #tu akurat latwo\n",
    "\n",
    "qm9_bench_for_qm7 = [idx for idx in qm7_all if idx not in qm9_in_train]\n",
    "print(len(qm9_bench_for_qm7))\n",
    "sorted(qm9_bench_for_qm7)[:10]"
   ]
  },
  {
   "cell_type": "code",
   "execution_count": 41,
   "id": "b680dd1a-8a41-4426-a266-016ed0e44d9e",
   "metadata": {},
   "outputs": [
    {
     "name": "stdout",
     "output_type": "stream",
     "text": [
      "2287\n"
     ]
    },
    {
     "data": {
      "text/plain": [
       "[2, 12, 19, 86, 102, 123, 141, 178, 209, 267]"
      ]
     },
     "execution_count": 41,
     "metadata": {},
     "output_type": "execute_result"
    }
   ],
   "source": [
    "#dla qm8: losuje z tych idenskow qm8, ktore nie znajduja sie w zbiorze treningowym dla qm9\n",
    "\n",
    "qm9_in_train = [idx for idx in qm9_all if idx not in qm9] \n",
    "qm9_bench_for_qm8 = [idx for idx in qm8_all if idx not in qm9_in_train]\n",
    "print(len(qm9_bench_for_qm8))\n",
    "qm9_bench_for_qm8 = sorted(random.sample(qm9_bench_for_qm8, 1000))\n",
    "qm9_bench_for_qm8[:10]"
   ]
  },
  {
   "cell_type": "markdown",
   "id": "9ac62292-6470-4806-8127-69c223786a15",
   "metadata": {},
   "source": [
    "## SubQM9"
   ]
  },
  {
   "cell_type": "code",
   "execution_count": 8,
   "id": "f19bc97e-0d0d-4edb-9988-ce3e51f4dcfa",
   "metadata": {},
   "outputs": [
    {
     "name": "stdout",
     "output_type": "stream",
     "text": [
      "66943\n",
      "66942\n"
     ]
    }
   ],
   "source": [
    "import pandas as pd\n",
    "\n",
    "df = pd.read_csv('qm9_vanilla.csv')\n",
    "df.head()\n",
    "\n",
    "tmp = df.sample(frac=0.5, random_state=42).ID.tolist()\n",
    "tmp = [int(x.split('_')[1]) for x in tmp]\n",
    "\n",
    "\n",
    "final = []\n",
    "for i in range(133885):\n",
    "    if i not in tmp:\n",
    "        final.append(i)\n",
    "print(len(final))\n",
    "print(len(tmp))\n",
    "\n",
    "import json\n",
    "\n",
    "\n",
    "data = {\n",
    "    'qm9_2_val':sorted(final)\n",
    "}\n",
    "\n",
    "file_path = 'scripts/test_indices.json'\n",
    "\n",
    "with open(file_path, 'r') as f:\n",
    "        existing_data = json.load(f)\n",
    "\n",
    "existing_data.update(data)\n",
    "\n",
    "with open(file_path, 'w') as f:\n",
    "    json.dump(existing_data, f, indent=4) \n"
   ]
  },
  {
   "cell_type": "markdown",
   "id": "42131cec-5e87-49e9-867d-9fa3a343ec76",
   "metadata": {},
   "source": [
    "## Saving"
   ]
  },
  {
   "cell_type": "code",
   "execution_count": 49,
   "id": "002de59a-380f-4a0e-949f-933a1066f0a3",
   "metadata": {},
   "outputs": [],
   "source": [
    "import json\n",
    "\n",
    "data = {\n",
    "    'qm7_val':sorted(qm7_demo),\n",
    "    'qm8_val': sorted(qm8_demo),\n",
    "    'qm9_val': sorted(qm9),\n",
    "\n",
    "    'qm7_bench_for_qm8': qm7_bench_for_qm8,\n",
    "    'qm7_bench_for_qm9': qm7_bench_for_qm9,\n",
    "    'qm8_bench_for_qm7': qm8_bench_for_qm7,\n",
    "    'qm8_bench_for_qm9': qm8_bench_for_qm9,\n",
    "    'qm9_bench_for_qm7': qm9_bench_for_qm7,\n",
    "    'qm9_bench_for_qm8': qm9_bench_for_qm8,    \n",
    "}\n",
    "\n",
    "with open('scripts/test_indices.json', 'w') as f:\n",
    "    json.dump(data, f)"
   ]
  },
  {
   "cell_type": "code",
   "execution_count": 51,
   "id": "22131fdf-5114-4e62-97d7-be9f7eabca49",
   "metadata": {},
   "outputs": [
    {
     "data": {
      "text/plain": [
       "[14,\n",
       " 22,\n",
       " 38,\n",
       " 39,\n",
       " 45,\n",
       " 48,\n",
       " 49,\n",
       " 55,\n",
       " 61,\n",
       " 68,\n",
       " 82,\n",
       " 125,\n",
       " 153,\n",
       " 200,\n",
       " 207,\n",
       " 244,\n",
       " 255,\n",
       " 256,\n",
       " 264,\n",
       " 298,\n",
       " 312,\n",
       " 315,\n",
       " 327,\n",
       " 331,\n",
       " 339,\n",
       " 348,\n",
       " 351,\n",
       " 395,\n",
       " 428,\n",
       " 435,\n",
       " 480,\n",
       " 495,\n",
       " 508,\n",
       " 517,\n",
       " 531,\n",
       " 538,\n",
       " 550,\n",
       " 556,\n",
       " 559,\n",
       " 572,\n",
       " 611,\n",
       " 622,\n",
       " 626,\n",
       " 634,\n",
       " 654,\n",
       " 660,\n",
       " 666,\n",
       " 672,\n",
       " 680,\n",
       " 704,\n",
       " 705,\n",
       " 716,\n",
       " 746,\n",
       " 749,\n",
       " 768,\n",
       " 816,\n",
       " 818,\n",
       " 819,\n",
       " 823,\n",
       " 824,\n",
       " 850,\n",
       " 857,\n",
       " 870,\n",
       " 873,\n",
       " 892,\n",
       " 895,\n",
       " 916,\n",
       " 924,\n",
       " 926,\n",
       " 927,\n",
       " 928,\n",
       " 931,\n",
       " 957,\n",
       " 965,\n",
       " 970,\n",
       " 988,\n",
       " 1008,\n",
       " 1016,\n",
       " 1038,\n",
       " 1040,\n",
       " 1057,\n",
       " 1095,\n",
       " 1186,\n",
       " 1187,\n",
       " 1191,\n",
       " 1199,\n",
       " 1200,\n",
       " 1207,\n",
       " 1228,\n",
       " 1247,\n",
       " 1250,\n",
       " 1268,\n",
       " 1275,\n",
       " 1278,\n",
       " 1311,\n",
       " 1313,\n",
       " 1332,\n",
       " 1334,\n",
       " 1352,\n",
       " 1364,\n",
       " 1377,\n",
       " 1385,\n",
       " 1398,\n",
       " 1413,\n",
       " 1418,\n",
       " 1425,\n",
       " 1446,\n",
       " 1450,\n",
       " 1477,\n",
       " 1481,\n",
       " 1495,\n",
       " 1504,\n",
       " 1523,\n",
       " 1558,\n",
       " 1575,\n",
       " 1581,\n",
       " 1597,\n",
       " 1599,\n",
       " 1603,\n",
       " 1614,\n",
       " 1619,\n",
       " 1626,\n",
       " 1629,\n",
       " 1661,\n",
       " 1663,\n",
       " 1767,\n",
       " 1789,\n",
       " 1790,\n",
       " 1801,\n",
       " 1814,\n",
       " 1821,\n",
       " 1831,\n",
       " 1846,\n",
       " 1847,\n",
       " 1848,\n",
       " 1849,\n",
       " 1863,\n",
       " 1872,\n",
       " 1873,\n",
       " 1880,\n",
       " 1896,\n",
       " 1904,\n",
       " 1905,\n",
       " 1915,\n",
       " 1953,\n",
       " 1954,\n",
       " 1975,\n",
       " 1985,\n",
       " 1992,\n",
       " 2010,\n",
       " 2037,\n",
       " 2082,\n",
       " 2098,\n",
       " 2102,\n",
       " 2116,\n",
       " 2125,\n",
       " 2130,\n",
       " 2142,\n",
       " 2178,\n",
       " 2184,\n",
       " 2185,\n",
       " 2197,\n",
       " 2212,\n",
       " 2213,\n",
       " 2220,\n",
       " 2231,\n",
       " 2256,\n",
       " 2271,\n",
       " 2283,\n",
       " 2341,\n",
       " 2394,\n",
       " 2405,\n",
       " 2408,\n",
       " 2423,\n",
       " 2426,\n",
       " 2451,\n",
       " 2461,\n",
       " 2470,\n",
       " 2479,\n",
       " 2494,\n",
       " 2496,\n",
       " 2498,\n",
       " 2506,\n",
       " 2513,\n",
       " 2533,\n",
       " 2547,\n",
       " 2566,\n",
       " 2571,\n",
       " 2573,\n",
       " 2581,\n",
       " 2591,\n",
       " 2618,\n",
       " 2637,\n",
       " 2641,\n",
       " 2646,\n",
       " 2656,\n",
       " 2661,\n",
       " 2667,\n",
       " 2671,\n",
       " 2686,\n",
       " 2690,\n",
       " 2714,\n",
       " 2725,\n",
       " 2732,\n",
       " 2739,\n",
       " 2761,\n",
       " 2769,\n",
       " 2795,\n",
       " 2798,\n",
       " 2808,\n",
       " 2814,\n",
       " 2819,\n",
       " 2834,\n",
       " 2868,\n",
       " 2874,\n",
       " 2890,\n",
       " 2891,\n",
       " 2897,\n",
       " 2906,\n",
       " 2916,\n",
       " 2929,\n",
       " 2931,\n",
       " 2954,\n",
       " 2958,\n",
       " 2978,\n",
       " 3017,\n",
       " 3038,\n",
       " 3058,\n",
       " 3068,\n",
       " 3072,\n",
       " 3097,\n",
       " 3108,\n",
       " 3121,\n",
       " 3131,\n",
       " 3151,\n",
       " 3155,\n",
       " 3170,\n",
       " 3177,\n",
       " 3179,\n",
       " 3214,\n",
       " 3234,\n",
       " 3274,\n",
       " 3277,\n",
       " 3312,\n",
       " 3323,\n",
       " 3324,\n",
       " 3336,\n",
       " 3339,\n",
       " 3345,\n",
       " 3346,\n",
       " 3351,\n",
       " 3352,\n",
       " 3364,\n",
       " 3405,\n",
       " 3427,\n",
       " 3445,\n",
       " 3470,\n",
       " 3471,\n",
       " 3475,\n",
       " 3481,\n",
       " 3522,\n",
       " 3532,\n",
       " 3542,\n",
       " 3544,\n",
       " 3545,\n",
       " 3558,\n",
       " 3564,\n",
       " 3569,\n",
       " 3576,\n",
       " 3590,\n",
       " 3605,\n",
       " 3625,\n",
       " 3643,\n",
       " 3670,\n",
       " 3673,\n",
       " 3717,\n",
       " 3724,\n",
       " 3729,\n",
       " 3753,\n",
       " 3765,\n",
       " 3791,\n",
       " 3825,\n",
       " 3836,\n",
       " 3837,\n",
       " 3843,\n",
       " 3852,\n",
       " 3879,\n",
       " 3882,\n",
       " 3889,\n",
       " 3893,\n",
       " 3912,\n",
       " 3945,\n",
       " 3949]"
      ]
     },
     "execution_count": 51,
     "metadata": {},
     "output_type": "execute_result"
    }
   ],
   "source": [
    "with open('scripts/test_indices.json', 'r') as plik:\n",
    "    dane_z_pliku = json.load(plik)\n",
    "\n",
    "\n",
    "test = dane_z_pliku['qm7_val']\n",
    "test"
   ]
  }
 ],
 "metadata": {
  "kernelspec": {
   "display_name": "Python 3 (ipykernel)",
   "language": "python",
   "name": "python3"
  },
  "language_info": {
   "codemirror_mode": {
    "name": "ipython",
    "version": 3
   },
   "file_extension": ".py",
   "mimetype": "text/x-python",
   "name": "python",
   "nbconvert_exporter": "python",
   "pygments_lexer": "ipython3",
   "version": "3.12.4"
  }
 },
 "nbformat": 4,
 "nbformat_minor": 5
}
