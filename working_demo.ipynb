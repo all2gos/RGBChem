{
  "nbformat": 4,
  "nbformat_minor": 0,
  "metadata": {
    "colab": {
      "provenance": []
    },
    "kernelspec": {
      "name": "python3",
      "display_name": "Python 3"
    },
    "language_info": {
      "name": "python"
    }
  },
  "cells": [
    {
      "cell_type": "markdown",
      "source": [
        "# RGBChem"
      ],
      "metadata": {
        "id": "g51-Vt4BqyoE"
      }
    },
    {
      "cell_type": "markdown",
      "source": [
        "RGBChem is a procedure for predicting the properties of chemical compounds using the conversion of chemical properties to RGB images.\n",
        "\n",
        "In this Jupyter Notebook we present the main ideas of the whole workflow showing on a small database."
      ],
      "metadata": {
        "id": "wUm612Bnq2PH"
      }
    },
    {
      "cell_type": "markdown",
      "source": [
        "## Data Preparation"
      ],
      "metadata": {
        "id": "UiJLnZJ1q63q"
      }
    },
    {
      "cell_type": "markdown",
      "source": [
        "For the purpose of presenting a working demo, we will use a small dataset that is a slice of the [qm9 database](https://www.nature.com/articles/sdata201422), which contains 133885 organic molecules with up to 9 heavy atoms (CONF). We will use only those compounds that contain up to 7 heavy atoms from this base. The dataset was prepared by us in advance."
      ],
      "metadata": {
        "id": "KlqrGNCnq9wH"
      }
    },
    {
      "cell_type": "code",
      "source": [],
      "metadata": {
        "id": "nG6yO2Lbq1sk"
      },
      "execution_count": null,
      "outputs": []
    },
    {
      "cell_type": "markdown",
      "source": [
        "### Image Creation"
      ],
      "metadata": {
        "id": "2dNQVzzotJeJ"
      }
    },
    {
      "cell_type": "markdown",
      "source": [
        "The whole procedure is based on the following concepts:\n",
        "\n",
        "- We represent a molecule with $N$ atoms as a matrix of dimensions $(N+m)\\times(N+m)$, where $m$ is some assumed margin that makes all generated images of the same dimension\n",
        "- In cells where $i=j$ (i.e., on the diagonal of the matrix), we can put information about properties specific to individual atoms (e.g., atomic charge)\n",
        "- In the cell where $i \\neq j$ we include information describing the relationship between atom $i$ and $j$, for example, the Cartesian distance of these atoms\n",
        "- This creates 3 matrices that contain 3 to 6 types of layout information.\n",
        "- We scale all the values in the matrices so that each has values in the range $0-255$.\n",
        "- In this way, we obtain 3 matrices that are direct information about the scale of each color in the RGB system -> based on this we generate the corresponding images.\n",
        "\n",
        "\n",
        "One important fact should be kept in mind: a translation or rotation of a molecule does not change its energy or any other property. Still, we can generate lots of images according to the given procedure for the same molecule. We decided to use this fact to augment the data and generate many different images for the same molecule."
      ],
      "metadata": {
        "id": "YT9vJtdZtMwC"
      }
    },
    {
      "cell_type": "code",
      "source": [],
      "metadata": {
        "id": "fCZnG8adtMNX"
      },
      "execution_count": null,
      "outputs": []
    }
  ]
}