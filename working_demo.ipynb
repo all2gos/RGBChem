{
  "cells": [
    {
      "cell_type": "markdown",
      "metadata": {
        "id": "g51-Vt4BqyoE"
      },
      "source": [
        "# RGBChem"
      ]
    },
    {
      "cell_type": "markdown",
      "metadata": {
        "id": "wUm612Bnq2PH"
      },
      "source": [
        "RGBChem is a methodology for predicting the properties of chemical compounds by transforming data into RGB images.\n",
        "\n",
        "This Jupyter Notebook provides an overview of the key concepts underlying the entire workflow and serves as a tutorial on the usage of our code."
      ]
    },
    {
      "cell_type": "markdown",
      "metadata": {
        "id": "v_tv9gT07MVR"
      },
      "source": [
        "## Loading python files from github (Google Colab only)"
      ]
    },
    {
      "cell_type": "code",
      "execution_count": 1,
      "metadata": {
        "id": "PGn6s-yIeXXd"
      },
      "outputs": [],
      "source": [
        "#choose whether you run the code on colab or locally\n",
        "colab = True"
      ]
    },
    {
      "cell_type": "code",
      "execution_count": 2,
      "metadata": {
        "id": "VOhBOEi-7MVY"
      },
      "outputs": [],
      "source": [
        "from git import Repo\n",
        "\n",
        "repo_url = 'https://github.com/all2gos/RGBChem.git'\n",
        "\n",
        "if colab:\n",
        "    repo_path = '/content/RGBChem'\n",
        "    Repo.clone_from(repo_url, repo_path)\n",
        "    !mv /content/RGBChem/* .\n",
        "    !rm -rf /content/RGBChem"
      ]
    },
    {
      "cell_type": "markdown",
      "metadata": {
        "id": "UiJLnZJ1q63q"
      },
      "source": [
        "## Data Preparation"
      ]
    },
    {
      "cell_type": "markdown",
      "metadata": {
        "id": "KlqrGNCnq9wH"
      },
      "source": [
        "For the purpose of demonstrating a working implementation, we will utilize the [qm7 database](https://www.nature.com/articles/sdata201422), which comprises 3,993 organic molecules containing up to seven heavy atoms (CONF).\n",
        "\n",
        "First, it is necessary to select the appropriate parameters for training."
      ]
    },
    {
      "cell_type": "code",
      "source": [
        "from scripts.utils import modify_params\n",
        "import scripts.params\n",
        "import importlib\n",
        "\n",
        "#to minimize training time, we impose certain constraints by selecting the CYCLE:1 setting, utilizing the qm7_demo database,\n",
        "#limiting training to 8 epochs, and employing the S2CNN architecture.\n",
        "\n",
        "changes_dict = {'CYCLE':1,'DB':'qm7_demo','PATH':'/content', 'MODEL':'S2CNN()','EPOCHS':8}\n",
        "\n",
        "modify_params(changes_dict) #change parameter in scripts/params.py\n",
        "importlib.reload(scripts.params) #reload file\n",
        "from scripts.params import *\n",
        "#after running this cell you have to restart Google Colab, and run this cell again to load params.py correctly into Google Colab memory"
      ],
      "metadata": {
        "id": "793j2IRkgvPw"
      },
      "execution_count": 1,
      "outputs": []
    },
    {
      "cell_type": "markdown",
      "source": [
        "Now we are ready to create database."
      ],
      "metadata": {
        "id": "iKfKc8T0hGp-"
      }
    },
    {
      "cell_type": "code",
      "source": [
        "from scripts.making_df import *\n",
        "from scripts.params import *\n",
        "\n",
        "making_df() #takes around 7-8 minutes on cpu"
      ],
      "metadata": {
        "colab": {
          "base_uri": "https://localhost:8080/"
        },
        "id": "wxWNEcNNhJ_M",
        "outputId": "d586704b-dc9a-4fab-ca38-c29b4a9e4464"
      },
      "execution_count": 2,
      "outputs": [
        {
          "output_type": "stream",
          "name": "stdout",
          "text": [
            "Extracting data from .tar file\n",
            "Program found 133885 files in data directory\n",
            "Creating a database of length 133885\n",
            "Progress: 100.00/100\n",
            "Reading df\n",
            "Len of df:133885\n",
            "\n",
            "Database of lenght 3993 was successfully created based on 133885 files (Shuffle: groups, number of data point per molecule: 1). Name of db: /content/qm7_demo.csv\n"
          ]
        }
      ]
    },
    {
      "cell_type": "code",
      "source": [
        "import pandas as pd\n",
        "\n",
        "ds = pd.read_csv(f'{PATH}/{DB}.csv')\n",
        "ds.drop(['atom_type','cords','mulliken'],axis=1).head()"
      ],
      "metadata": {
        "colab": {
          "base_uri": "https://localhost:8080/",
          "height": 290
        },
        "id": "S5Q1i4Y2rV8E",
        "outputId": "362de1a0-f644-4f9b-adf0-5c26c2e459cb"
      },
      "execution_count": 3,
      "outputs": [
        {
          "output_type": "execute_result",
          "data": {
            "text/plain": [
              "   Unnamed: 0  n_atoms            ID         A        B        C  \\\n",
              "0          41       17   gdb_2709_41  16.49141  0.82970  0.80582   \n",
              "1          81       13   gdb_3280_81   5.49452  2.56783  2.07208   \n",
              "2         132       15  gdb_2151_132   3.72100  3.03359  1.93442   \n",
              "3         150       13  gdb_2286_150   9.96411  1.33561  1.25859   \n",
              "4         189       10  gdb_2120_189   3.86078  3.68965  1.90999   \n",
              "\n",
              "   Dipole moment  Isotropic Polarizability  Energy of HOMO  Energy of LUMO  \\\n",
              "0         2.9650                     62.45         -0.2560         -0.0267   \n",
              "1         1.9615                     53.68         -0.2494         -0.0310   \n",
              "2         1.0376                     57.79         -0.2527          0.0085   \n",
              "3         2.7620                     51.86         -0.2659         -0.0022   \n",
              "4         4.5755                     45.70         -0.2906         -0.0619   \n",
              "\n",
              "   ...  Free energy at 298K  Heat capacity at 298K  Number_of_C  Number_of_O  \\\n",
              "0  ...          -346.890211                 29.062            5            2   \n",
              "1  ...          -344.460450                 21.393            5            2   \n",
              "2  ...          -345.688964                 25.052            5            2   \n",
              "3  ...          -381.612912                 22.610            4            3   \n",
              "4  ...          -396.516349                 19.388            3            3   \n",
              "\n",
              "   Number_of_N  Number_of_F  Number_of_H  Sum_of_heavy_atoms  possible_comb  \\\n",
              "0            0            0           10                   7    870912000.0   \n",
              "1            0            0            6                   7       172800.0   \n",
              "2            0            0            8                   7      9676800.0   \n",
              "3            0            0            6                   7       103680.0   \n",
              "4            1            0            3                   7          216.0   \n",
              "\n",
              "   bandgap_correct  \n",
              "0          -0.0218  \n",
              "1          -0.0327  \n",
              "2           0.0101  \n",
              "3           0.0126  \n",
              "4          -0.0224  \n",
              "\n",
              "[5 rows x 26 columns]"
            ],
            "text/html": [
              "\n",
              "  <div id=\"df-72329522-dba8-403b-9e9b-e9dce98c7365\" class=\"colab-df-container\">\n",
              "    <div>\n",
              "<style scoped>\n",
              "    .dataframe tbody tr th:only-of-type {\n",
              "        vertical-align: middle;\n",
              "    }\n",
              "\n",
              "    .dataframe tbody tr th {\n",
              "        vertical-align: top;\n",
              "    }\n",
              "\n",
              "    .dataframe thead th {\n",
              "        text-align: right;\n",
              "    }\n",
              "</style>\n",
              "<table border=\"1\" class=\"dataframe\">\n",
              "  <thead>\n",
              "    <tr style=\"text-align: right;\">\n",
              "      <th></th>\n",
              "      <th>Unnamed: 0</th>\n",
              "      <th>n_atoms</th>\n",
              "      <th>ID</th>\n",
              "      <th>A</th>\n",
              "      <th>B</th>\n",
              "      <th>C</th>\n",
              "      <th>Dipole moment</th>\n",
              "      <th>Isotropic Polarizability</th>\n",
              "      <th>Energy of HOMO</th>\n",
              "      <th>Energy of LUMO</th>\n",
              "      <th>...</th>\n",
              "      <th>Free energy at 298K</th>\n",
              "      <th>Heat capacity at 298K</th>\n",
              "      <th>Number_of_C</th>\n",
              "      <th>Number_of_O</th>\n",
              "      <th>Number_of_N</th>\n",
              "      <th>Number_of_F</th>\n",
              "      <th>Number_of_H</th>\n",
              "      <th>Sum_of_heavy_atoms</th>\n",
              "      <th>possible_comb</th>\n",
              "      <th>bandgap_correct</th>\n",
              "    </tr>\n",
              "  </thead>\n",
              "  <tbody>\n",
              "    <tr>\n",
              "      <th>0</th>\n",
              "      <td>41</td>\n",
              "      <td>17</td>\n",
              "      <td>gdb_2709_41</td>\n",
              "      <td>16.49141</td>\n",
              "      <td>0.82970</td>\n",
              "      <td>0.80582</td>\n",
              "      <td>2.9650</td>\n",
              "      <td>62.45</td>\n",
              "      <td>-0.2560</td>\n",
              "      <td>-0.0267</td>\n",
              "      <td>...</td>\n",
              "      <td>-346.890211</td>\n",
              "      <td>29.062</td>\n",
              "      <td>5</td>\n",
              "      <td>2</td>\n",
              "      <td>0</td>\n",
              "      <td>0</td>\n",
              "      <td>10</td>\n",
              "      <td>7</td>\n",
              "      <td>870912000.0</td>\n",
              "      <td>-0.0218</td>\n",
              "    </tr>\n",
              "    <tr>\n",
              "      <th>1</th>\n",
              "      <td>81</td>\n",
              "      <td>13</td>\n",
              "      <td>gdb_3280_81</td>\n",
              "      <td>5.49452</td>\n",
              "      <td>2.56783</td>\n",
              "      <td>2.07208</td>\n",
              "      <td>1.9615</td>\n",
              "      <td>53.68</td>\n",
              "      <td>-0.2494</td>\n",
              "      <td>-0.0310</td>\n",
              "      <td>...</td>\n",
              "      <td>-344.460450</td>\n",
              "      <td>21.393</td>\n",
              "      <td>5</td>\n",
              "      <td>2</td>\n",
              "      <td>0</td>\n",
              "      <td>0</td>\n",
              "      <td>6</td>\n",
              "      <td>7</td>\n",
              "      <td>172800.0</td>\n",
              "      <td>-0.0327</td>\n",
              "    </tr>\n",
              "    <tr>\n",
              "      <th>2</th>\n",
              "      <td>132</td>\n",
              "      <td>15</td>\n",
              "      <td>gdb_2151_132</td>\n",
              "      <td>3.72100</td>\n",
              "      <td>3.03359</td>\n",
              "      <td>1.93442</td>\n",
              "      <td>1.0376</td>\n",
              "      <td>57.79</td>\n",
              "      <td>-0.2527</td>\n",
              "      <td>0.0085</td>\n",
              "      <td>...</td>\n",
              "      <td>-345.688964</td>\n",
              "      <td>25.052</td>\n",
              "      <td>5</td>\n",
              "      <td>2</td>\n",
              "      <td>0</td>\n",
              "      <td>0</td>\n",
              "      <td>8</td>\n",
              "      <td>7</td>\n",
              "      <td>9676800.0</td>\n",
              "      <td>0.0101</td>\n",
              "    </tr>\n",
              "    <tr>\n",
              "      <th>3</th>\n",
              "      <td>150</td>\n",
              "      <td>13</td>\n",
              "      <td>gdb_2286_150</td>\n",
              "      <td>9.96411</td>\n",
              "      <td>1.33561</td>\n",
              "      <td>1.25859</td>\n",
              "      <td>2.7620</td>\n",
              "      <td>51.86</td>\n",
              "      <td>-0.2659</td>\n",
              "      <td>-0.0022</td>\n",
              "      <td>...</td>\n",
              "      <td>-381.612912</td>\n",
              "      <td>22.610</td>\n",
              "      <td>4</td>\n",
              "      <td>3</td>\n",
              "      <td>0</td>\n",
              "      <td>0</td>\n",
              "      <td>6</td>\n",
              "      <td>7</td>\n",
              "      <td>103680.0</td>\n",
              "      <td>0.0126</td>\n",
              "    </tr>\n",
              "    <tr>\n",
              "      <th>4</th>\n",
              "      <td>189</td>\n",
              "      <td>10</td>\n",
              "      <td>gdb_2120_189</td>\n",
              "      <td>3.86078</td>\n",
              "      <td>3.68965</td>\n",
              "      <td>1.90999</td>\n",
              "      <td>4.5755</td>\n",
              "      <td>45.70</td>\n",
              "      <td>-0.2906</td>\n",
              "      <td>-0.0619</td>\n",
              "      <td>...</td>\n",
              "      <td>-396.516349</td>\n",
              "      <td>19.388</td>\n",
              "      <td>3</td>\n",
              "      <td>3</td>\n",
              "      <td>1</td>\n",
              "      <td>0</td>\n",
              "      <td>3</td>\n",
              "      <td>7</td>\n",
              "      <td>216.0</td>\n",
              "      <td>-0.0224</td>\n",
              "    </tr>\n",
              "  </tbody>\n",
              "</table>\n",
              "<p>5 rows × 26 columns</p>\n",
              "</div>\n",
              "    <div class=\"colab-df-buttons\">\n",
              "\n",
              "  <div class=\"colab-df-container\">\n",
              "    <button class=\"colab-df-convert\" onclick=\"convertToInteractive('df-72329522-dba8-403b-9e9b-e9dce98c7365')\"\n",
              "            title=\"Convert this dataframe to an interactive table.\"\n",
              "            style=\"display:none;\">\n",
              "\n",
              "  <svg xmlns=\"http://www.w3.org/2000/svg\" height=\"24px\" viewBox=\"0 -960 960 960\">\n",
              "    <path d=\"M120-120v-720h720v720H120Zm60-500h600v-160H180v160Zm220 220h160v-160H400v160Zm0 220h160v-160H400v160ZM180-400h160v-160H180v160Zm440 0h160v-160H620v160ZM180-180h160v-160H180v160Zm440 0h160v-160H620v160Z\"/>\n",
              "  </svg>\n",
              "    </button>\n",
              "\n",
              "  <style>\n",
              "    .colab-df-container {\n",
              "      display:flex;\n",
              "      gap: 12px;\n",
              "    }\n",
              "\n",
              "    .colab-df-convert {\n",
              "      background-color: #E8F0FE;\n",
              "      border: none;\n",
              "      border-radius: 50%;\n",
              "      cursor: pointer;\n",
              "      display: none;\n",
              "      fill: #1967D2;\n",
              "      height: 32px;\n",
              "      padding: 0 0 0 0;\n",
              "      width: 32px;\n",
              "    }\n",
              "\n",
              "    .colab-df-convert:hover {\n",
              "      background-color: #E2EBFA;\n",
              "      box-shadow: 0px 1px 2px rgba(60, 64, 67, 0.3), 0px 1px 3px 1px rgba(60, 64, 67, 0.15);\n",
              "      fill: #174EA6;\n",
              "    }\n",
              "\n",
              "    .colab-df-buttons div {\n",
              "      margin-bottom: 4px;\n",
              "    }\n",
              "\n",
              "    [theme=dark] .colab-df-convert {\n",
              "      background-color: #3B4455;\n",
              "      fill: #D2E3FC;\n",
              "    }\n",
              "\n",
              "    [theme=dark] .colab-df-convert:hover {\n",
              "      background-color: #434B5C;\n",
              "      box-shadow: 0px 1px 3px 1px rgba(0, 0, 0, 0.15);\n",
              "      filter: drop-shadow(0px 1px 2px rgba(0, 0, 0, 0.3));\n",
              "      fill: #FFFFFF;\n",
              "    }\n",
              "  </style>\n",
              "\n",
              "    <script>\n",
              "      const buttonEl =\n",
              "        document.querySelector('#df-72329522-dba8-403b-9e9b-e9dce98c7365 button.colab-df-convert');\n",
              "      buttonEl.style.display =\n",
              "        google.colab.kernel.accessAllowed ? 'block' : 'none';\n",
              "\n",
              "      async function convertToInteractive(key) {\n",
              "        const element = document.querySelector('#df-72329522-dba8-403b-9e9b-e9dce98c7365');\n",
              "        const dataTable =\n",
              "          await google.colab.kernel.invokeFunction('convertToInteractive',\n",
              "                                                    [key], {});\n",
              "        if (!dataTable) return;\n",
              "\n",
              "        const docLinkHtml = 'Like what you see? Visit the ' +\n",
              "          '<a target=\"_blank\" href=https://colab.research.google.com/notebooks/data_table.ipynb>data table notebook</a>'\n",
              "          + ' to learn more about interactive tables.';\n",
              "        element.innerHTML = '';\n",
              "        dataTable['output_type'] = 'display_data';\n",
              "        await google.colab.output.renderOutput(dataTable, element);\n",
              "        const docLink = document.createElement('div');\n",
              "        docLink.innerHTML = docLinkHtml;\n",
              "        element.appendChild(docLink);\n",
              "      }\n",
              "    </script>\n",
              "  </div>\n",
              "\n",
              "\n",
              "<div id=\"df-f0984d1e-f25a-4761-bcfa-0cd578e38bce\">\n",
              "  <button class=\"colab-df-quickchart\" onclick=\"quickchart('df-f0984d1e-f25a-4761-bcfa-0cd578e38bce')\"\n",
              "            title=\"Suggest charts\"\n",
              "            style=\"display:none;\">\n",
              "\n",
              "<svg xmlns=\"http://www.w3.org/2000/svg\" height=\"24px\"viewBox=\"0 0 24 24\"\n",
              "     width=\"24px\">\n",
              "    <g>\n",
              "        <path d=\"M19 3H5c-1.1 0-2 .9-2 2v14c0 1.1.9 2 2 2h14c1.1 0 2-.9 2-2V5c0-1.1-.9-2-2-2zM9 17H7v-7h2v7zm4 0h-2V7h2v10zm4 0h-2v-4h2v4z\"/>\n",
              "    </g>\n",
              "</svg>\n",
              "  </button>\n",
              "\n",
              "<style>\n",
              "  .colab-df-quickchart {\n",
              "      --bg-color: #E8F0FE;\n",
              "      --fill-color: #1967D2;\n",
              "      --hover-bg-color: #E2EBFA;\n",
              "      --hover-fill-color: #174EA6;\n",
              "      --disabled-fill-color: #AAA;\n",
              "      --disabled-bg-color: #DDD;\n",
              "  }\n",
              "\n",
              "  [theme=dark] .colab-df-quickchart {\n",
              "      --bg-color: #3B4455;\n",
              "      --fill-color: #D2E3FC;\n",
              "      --hover-bg-color: #434B5C;\n",
              "      --hover-fill-color: #FFFFFF;\n",
              "      --disabled-bg-color: #3B4455;\n",
              "      --disabled-fill-color: #666;\n",
              "  }\n",
              "\n",
              "  .colab-df-quickchart {\n",
              "    background-color: var(--bg-color);\n",
              "    border: none;\n",
              "    border-radius: 50%;\n",
              "    cursor: pointer;\n",
              "    display: none;\n",
              "    fill: var(--fill-color);\n",
              "    height: 32px;\n",
              "    padding: 0;\n",
              "    width: 32px;\n",
              "  }\n",
              "\n",
              "  .colab-df-quickchart:hover {\n",
              "    background-color: var(--hover-bg-color);\n",
              "    box-shadow: 0 1px 2px rgba(60, 64, 67, 0.3), 0 1px 3px 1px rgba(60, 64, 67, 0.15);\n",
              "    fill: var(--button-hover-fill-color);\n",
              "  }\n",
              "\n",
              "  .colab-df-quickchart-complete:disabled,\n",
              "  .colab-df-quickchart-complete:disabled:hover {\n",
              "    background-color: var(--disabled-bg-color);\n",
              "    fill: var(--disabled-fill-color);\n",
              "    box-shadow: none;\n",
              "  }\n",
              "\n",
              "  .colab-df-spinner {\n",
              "    border: 2px solid var(--fill-color);\n",
              "    border-color: transparent;\n",
              "    border-bottom-color: var(--fill-color);\n",
              "    animation:\n",
              "      spin 1s steps(1) infinite;\n",
              "  }\n",
              "\n",
              "  @keyframes spin {\n",
              "    0% {\n",
              "      border-color: transparent;\n",
              "      border-bottom-color: var(--fill-color);\n",
              "      border-left-color: var(--fill-color);\n",
              "    }\n",
              "    20% {\n",
              "      border-color: transparent;\n",
              "      border-left-color: var(--fill-color);\n",
              "      border-top-color: var(--fill-color);\n",
              "    }\n",
              "    30% {\n",
              "      border-color: transparent;\n",
              "      border-left-color: var(--fill-color);\n",
              "      border-top-color: var(--fill-color);\n",
              "      border-right-color: var(--fill-color);\n",
              "    }\n",
              "    40% {\n",
              "      border-color: transparent;\n",
              "      border-right-color: var(--fill-color);\n",
              "      border-top-color: var(--fill-color);\n",
              "    }\n",
              "    60% {\n",
              "      border-color: transparent;\n",
              "      border-right-color: var(--fill-color);\n",
              "    }\n",
              "    80% {\n",
              "      border-color: transparent;\n",
              "      border-right-color: var(--fill-color);\n",
              "      border-bottom-color: var(--fill-color);\n",
              "    }\n",
              "    90% {\n",
              "      border-color: transparent;\n",
              "      border-bottom-color: var(--fill-color);\n",
              "    }\n",
              "  }\n",
              "</style>\n",
              "\n",
              "  <script>\n",
              "    async function quickchart(key) {\n",
              "      const quickchartButtonEl =\n",
              "        document.querySelector('#' + key + ' button');\n",
              "      quickchartButtonEl.disabled = true;  // To prevent multiple clicks.\n",
              "      quickchartButtonEl.classList.add('colab-df-spinner');\n",
              "      try {\n",
              "        const charts = await google.colab.kernel.invokeFunction(\n",
              "            'suggestCharts', [key], {});\n",
              "      } catch (error) {\n",
              "        console.error('Error during call to suggestCharts:', error);\n",
              "      }\n",
              "      quickchartButtonEl.classList.remove('colab-df-spinner');\n",
              "      quickchartButtonEl.classList.add('colab-df-quickchart-complete');\n",
              "    }\n",
              "    (() => {\n",
              "      let quickchartButtonEl =\n",
              "        document.querySelector('#df-f0984d1e-f25a-4761-bcfa-0cd578e38bce button');\n",
              "      quickchartButtonEl.style.display =\n",
              "        google.colab.kernel.accessAllowed ? 'block' : 'none';\n",
              "    })();\n",
              "  </script>\n",
              "</div>\n",
              "\n",
              "    </div>\n",
              "  </div>\n"
            ],
            "application/vnd.google.colaboratory.intrinsic+json": {
              "type": "dataframe"
            }
          },
          "metadata": {},
          "execution_count": 3
        }
      ]
    },
    {
      "cell_type": "markdown",
      "metadata": {
        "id": "2dNQVzzotJeJ"
      },
      "source": [
        "## Image Creation"
      ]
    },
    {
      "cell_type": "markdown",
      "metadata": {
        "id": "YT9vJtdZtMwC"
      },
      "source": [
        "The whole procedure is based on the following concepts:\n",
        "\n",
        "- We represent a molecule with $N$ atoms as a matrix of dimensions $(N+m)\\times(N+m)$, where $m$ is some assumed margin that makes all generated images of the same size\n",
        "- In cells where $i=j$ (i.e., on the diagonal of the matrix), we can put information about properties specific to individual atoms (e.g., atomic charge)\n",
        "- In all cells we can include information describing the relationship between atom $i$ and $j$. Values for some properties are present in all cells (e.g. Coulomb charge), some are zeroes on diagonal (e.g. Cartesian distance between atoms)\n",
        "- In this way, we obtain 3 matrices that are direct information about the scale of each color in the RGB system. Based on this we generate the corresponding images.\n",
        "\n",
        "In this demo we perform creating one image per one molecule. However you can simply increase this value by changing CYCLE parameter in params.py file.\n",
        "\n",
        "\n",
        "The entire procedure is based on the following concepts:\n",
        "\n",
        "- A molecule with $N$ atoms is represented as a matrix of dimensions $(N+m)\\times(N+m)$, where $m$ is an assumed margin that ensures all generated images are of the same size.\n",
        "- In the cells where $i=j$ (i.e., along the diagonal of the matrix), information specific to individual atoms can be placed (e.g., atomic charge).\n",
        "- In all cells, information describing the relationship between atom $i$ and atom $j$ can be included. Certain properties are represented across all cells (e.g., Coulomb charge), while others are zero on the diagonal (e.g., Cartesian distance between atoms).\n",
        "- This results in three matrices that provide direct information about the scale of each color in the RGB system.\n",
        "\n",
        "Based on this data, the corresponding images are generated.\n",
        "\n",
        "In this demonstration, we generate one image per molecule. However, the number of images can be easily increased by modifying the `CYCLE` parameter in the `scripts/params.py` file.\n"
      ]
    },
    {
      "cell_type": "code",
      "source": [
        "from scripts.dataloaders import dataloader_conv #this function perform .png files creation and DataLoader and Dataset PyTorch object creation\n",
        "\n",
        "dl = dataloader_conv(200) #you can specify the quantity of generated images"
      ],
      "metadata": {
        "id": "_Rqie4PNDDdG",
        "colab": {
          "base_uri": "https://localhost:8080/"
        },
        "outputId": "1aa1a0de-0dc6-4945-8497-5d4e56461adb"
      },
      "execution_count": 4,
      "outputs": [
        {
          "output_type": "stream",
          "name": "stdout",
          "text": [
            "reading files\n",
            "/content/data\n",
            "Creating 201 images for training model\n",
            "Rearranging train and test files\n",
            "Calibration for each spectra (based on 10.00% of data):\n",
            "Calibration: 99.95%\n",
            "r_range= 0.00, 8.00\n",
            "g_range= 0.00, 41.00\n",
            "b_range= 0.00, 9.00\n",
            "Creating images, this process may take a lot of time\n",
            "Running with multiprocessing using 6 processes\n",
            "169 goes to test set\n",
            "Creating images has been finished. There are 173 files in train directory and 15 in test directory.\n"
          ]
        }
      ]
    },
    {
      "cell_type": "code",
      "source": [
        "#print example image\n",
        "import matplotlib.image as mpimg\n",
        "import matplotlib.pyplot as plt\n",
        "import os\n",
        "\n",
        "file_path = os.listdir(f'{PATH}/{TEST_DIR_NAME}')[0]\n",
        "img = mpimg.imread(f\"{PATH}/{TEST_DIR_NAME}/{file_path}\")\n",
        "\n",
        "plt.imshow(img)\n",
        "plt.axis('off')\n",
        "plt.title(f'Image based on compound {file_path.split(\"_\")[1]}')\n",
        "plt.show()"
      ],
      "metadata": {
        "colab": {
          "base_uri": "https://localhost:8080/",
          "height": 428
        },
        "id": "2FAZyafwHSct",
        "outputId": "4c6d38da-826f-4b01-c54f-76908e10e445"
      },
      "execution_count": 5,
      "outputs": [
        {
          "output_type": "display_data",
          "data": {
            "text/plain": [
              "<Figure size 640x480 with 1 Axes>"
            ],
            "image/png": "[encoded data removed]"
          },
          "metadata": {}
        }
      ]
    },
    {
      "cell_type": "markdown",
      "metadata": {
        "id": "tUlozMS-e7fG"
      },
      "source": [
        "## Training the Model"
      ]
    },
    {
      "cell_type": "markdown",
      "metadata": {
        "id": "nCjSdOlCe_V-"
      },
      "source": [
        "The entire training procedure (including database and image creation) can be performed using a single function from the `run_fastai.py` file. The training process can be manipulated by modifying the corresponding parameters in the `scripts/params.py` file.\n"
      ]
    },
    {
      "cell_type": "code",
      "source": [
        "from run_fastai import *\n",
        "\n",
        "training_workflow() #~20 mins on cpu, we recommend utilizing some GPU resources"
      ],
      "metadata": {
        "colab": {
          "base_uri": "https://localhost:8080/",
          "height": 1000
        },
        "id": "YiOLJmUgw61D",
        "outputId": "89f53df0-7cde-4e25-e74d-7cfcb1f5388e"
      },
      "execution_count": 1,
      "outputs": [
        {
          "output_type": "stream",
          "name": "stdout",
          "text": [
            "reading files\n",
            "Creating 3993 images for training model\n",
            "Rearranging train and test files\n",
            "Calibration for each spectra (based on 10.00% of data):\n",
            "Calibration: 99.80%\n",
            "r_range= 0.00, 8.00\n",
            "g_range= 0.00, 41.00\n",
            "b_range= 0.00, 9.00\n",
            "Creating images, this process may take a lot of time\n",
            "Running with multiprocessing using 6 processes\n",
            "3990 goes to test set\n",
            "Creating images has been finished. There are 3327 files in train directory and 293 in test directory.\n",
            "qm7_vanilla.csv have been found in directory\n",
            "\n",
            "---All params list---\n",
            "BATCH_SIZE = 60\n",
            "CYCLE = 1\n",
            "DB = qm7_demo\n",
            "DEVICE = cuda\n",
            "EPOCHS = 8\n",
            "LEARNING_RATE = 0.00181\n",
            "LOG_FILE = qm7_demoDS2CNN()_black_e8_bandgap_bs60_size30_shuffle_groups_1.log\n",
            "MATRIX_SIZE = 30\n",
            "MOMENTUM = 0.81\n",
            "PATH = /content\n",
            "PREDICTED_VALUE = bandgap\n",
            "SHUFFLE = groups\n",
            "TEST_DIR_NAME = test\n",
            "TRAIN_DIR_NAME = train\n",
            "TRAIN_TEST_SPLIT = 0.9\n",
            "SCALING = True\n",
            "DELETE = True\n",
            "TYPE_OF_IMAGE = D\n",
            "PATIENCE = 44\n",
            "DELTA = 0\n",
            "MODEL = S2CNN()\n",
            "RANDOM_OR = False\n",
            "MARGIN = black\n",
            "RESIZE = 0\n",
            "STEP = 10\n",
            "BATTERY_LEVEL_CONTROL = False\n",
            "MULTIPROCESS = True\n",
            "NUM_PROC = 6\n",
            "DROPOUT = 0.2\n",
            "3327 out of 3993 samples were selected\n"
          ]
        },
        {
          "output_type": "display_data",
          "data": {
            "text/plain": [
              "<IPython.core.display.HTML object>"
            ],
            "text/html": [
              "\n",
              "<style>\n",
              "    /* Turns off some styling */\n",
              "    progress {\n",
              "        /* gets rid of default border in Firefox and Opera. */\n",
              "        border: none;\n",
              "        /* Needs to be in here for Safari polyfill so background images work as expected. */\n",
              "        background-size: auto;\n",
              "    }\n",
              "    progress:not([value]), progress:not([value])::-webkit-progress-bar {\n",
              "        background: repeating-linear-gradient(45deg, #7e7e7e, #7e7e7e 10px, #5c5c5c 10px, #5c5c5c 20px);\n",
              "    }\n",
              "    .progress-bar-interrupted, .progress-bar-interrupted::-webkit-progress-bar {\n",
              "        background: #F44336;\n",
              "    }\n",
              "</style>\n"
            ]
          },
          "metadata": {}
        },
        {
          "output_type": "display_data",
          "data": {
            "text/plain": [
              "<IPython.core.display.HTML object>"
            ],
            "text/html": [
              "<table border=\"1\" class=\"dataframe\">\n",
              "  <thead>\n",
              "    <tr style=\"text-align: left;\">\n",
              "      <th>epoch</th>\n",
              "      <th>train_loss</th>\n",
              "      <th>valid_loss</th>\n",
              "      <th>mae</th>\n",
              "      <th>time</th>\n",
              "    </tr>\n",
              "  </thead>\n",
              "  <tbody>\n",
              "    <tr>\n",
              "      <td>0</td>\n",
              "      <td>0.004054</td>\n",
              "      <td>0.002529</td>\n",
              "      <td>0.038068</td>\n",
              "      <td>00:03</td>\n",
              "    </tr>\n",
              "  </tbody>\n",
              "</table>"
            ]
          },
          "metadata": {}
        },
        {
          "output_type": "stream",
          "name": "stdout",
          "text": [
            "Better model found at epoch 0 with valid_loss value: 0.0025285896845161915.\n"
          ]
        },
        {
          "output_type": "stream",
          "name": "stderr",
          "text": [
            "/usr/local/lib/python3.11/dist-packages/fastai/learner.py:53: FutureWarning: You are using `torch.load` with `weights_only=False` (the current default value), which uses the default pickle module implicitly. It is possible to construct malicious pickle data which will execute arbitrary code during unpickling (See https://github.com/pytorch/pytorch/blob/main/SECURITY.md#untrusted-models for more details). In a future release, the default value for `weights_only` will be flipped to `True`. This limits the functions that could be executed during unpickling. Arbitrary objects will no longer be allowed to be loaded via this mode unless they are explicitly allowlisted by the user via `torch.serialization.add_safe_globals`. We recommend you start setting `weights_only=True` for any use case where you don't have full control of the loaded file. Please open an issue on GitHub for any issues related to this experimental feature.\n",
            "  state = torch.load(file, map_location=device, **torch_load_kwargs)\n"
          ]
        },
        {
          "output_type": "display_data",
          "data": {
            "text/plain": [
              "<IPython.core.display.HTML object>"
            ],
            "text/html": [
              "\n",
              "<style>\n",
              "    /* Turns off some styling */\n",
              "    progress {\n",
              "        /* gets rid of default border in Firefox and Opera. */\n",
              "        border: none;\n",
              "        /* Needs to be in here for Safari polyfill so background images work as expected. */\n",
              "        background-size: auto;\n",
              "    }\n",
              "    progress:not([value]), progress:not([value])::-webkit-progress-bar {\n",
              "        background: repeating-linear-gradient(45deg, #7e7e7e, #7e7e7e 10px, #5c5c5c 10px, #5c5c5c 20px);\n",
              "    }\n",
              "    .progress-bar-interrupted, .progress-bar-interrupted::-webkit-progress-bar {\n",
              "        background: #F44336;\n",
              "    }\n",
              "</style>\n"
            ]
          },
          "metadata": {}
        },
        {
          "output_type": "display_data",
          "data": {
            "text/plain": [
              "<IPython.core.display.HTML object>"
            ],
            "text/html": [
              "<table border=\"1\" class=\"dataframe\">\n",
              "  <thead>\n",
              "    <tr style=\"text-align: left;\">\n",
              "      <th>epoch</th>\n",
              "      <th>train_loss</th>\n",
              "      <th>valid_loss</th>\n",
              "      <th>mae</th>\n",
              "      <th>time</th>\n",
              "    </tr>\n",
              "  </thead>\n",
              "  <tbody>\n",
              "    <tr>\n",
              "      <td>0</td>\n",
              "      <td>0.002178</td>\n",
              "      <td>0.002336</td>\n",
              "      <td>0.036232</td>\n",
              "      <td>00:03</td>\n",
              "    </tr>\n",
              "    <tr>\n",
              "      <td>1</td>\n",
              "      <td>0.002070</td>\n",
              "      <td>0.002225</td>\n",
              "      <td>0.035483</td>\n",
              "      <td>00:04</td>\n",
              "    </tr>\n",
              "    <tr>\n",
              "      <td>2</td>\n",
              "      <td>0.001883</td>\n",
              "      <td>0.002020</td>\n",
              "      <td>0.033451</td>\n",
              "      <td>00:02</td>\n",
              "    </tr>\n",
              "    <tr>\n",
              "      <td>3</td>\n",
              "      <td>0.001724</td>\n",
              "      <td>0.002010</td>\n",
              "      <td>0.033664</td>\n",
              "      <td>00:02</td>\n",
              "    </tr>\n",
              "    <tr>\n",
              "      <td>4</td>\n",
              "      <td>0.001637</td>\n",
              "      <td>0.001919</td>\n",
              "      <td>0.032515</td>\n",
              "      <td>00:02</td>\n",
              "    </tr>\n",
              "    <tr>\n",
              "      <td>5</td>\n",
              "      <td>0.001536</td>\n",
              "      <td>0.001891</td>\n",
              "      <td>0.032663</td>\n",
              "      <td>00:04</td>\n",
              "    </tr>\n",
              "    <tr>\n",
              "      <td>6</td>\n",
              "      <td>0.001503</td>\n",
              "      <td>0.001873</td>\n",
              "      <td>0.032188</td>\n",
              "      <td>00:03</td>\n",
              "    </tr>\n",
              "    <tr>\n",
              "      <td>7</td>\n",
              "      <td>0.001491</td>\n",
              "      <td>0.001872</td>\n",
              "      <td>0.032161</td>\n",
              "      <td>00:02</td>\n",
              "    </tr>\n",
              "  </tbody>\n",
              "</table>"
            ]
          },
          "metadata": {}
        },
        {
          "output_type": "stream",
          "name": "stdout",
          "text": [
            "Better model found at epoch 0 with valid_loss value: 0.002336061093956232.\n",
            "Better model found at epoch 1 with valid_loss value: 0.0022247950546443462.\n",
            "Better model found at epoch 2 with valid_loss value: 0.002019924810156226.\n",
            "Better model found at epoch 3 with valid_loss value: 0.002010301686823368.\n",
            "Better model found at epoch 4 with valid_loss value: 0.0019193907501176.\n",
            "Better model found at epoch 5 with valid_loss value: 0.0018905394244939089.\n",
            "Better model found at epoch 6 with valid_loss value: 0.0018728537252172828.\n",
            "Better model found at epoch 7 with valid_loss value: 0.0018716179765760899.\n",
            "File gdb_103_91602.png have been successfully moved to /content\n",
            "Validation...\n"
          ]
        },
        {
          "output_type": "display_data",
          "data": {
            "text/plain": [
              "<IPython.core.display.HTML object>"
            ],
            "text/html": [
              "\n",
              "<style>\n",
              "    /* Turns off some styling */\n",
              "    progress {\n",
              "        /* gets rid of default border in Firefox and Opera. */\n",
              "        border: none;\n",
              "        /* Needs to be in here for Safari polyfill so background images work as expected. */\n",
              "        background-size: auto;\n",
              "    }\n",
              "    progress:not([value]), progress:not([value])::-webkit-progress-bar {\n",
              "        background: repeating-linear-gradient(45deg, #7e7e7e, #7e7e7e 10px, #5c5c5c 10px, #5c5c5c 20px);\n",
              "    }\n",
              "    .progress-bar-interrupted, .progress-bar-interrupted::-webkit-progress-bar {\n",
              "        background: #F44336;\n",
              "    }\n",
              "</style>\n"
            ]
          },
          "metadata": {}
        },
        {
          "output_type": "display_data",
          "data": {
            "text/plain": [
              "<IPython.core.display.HTML object>"
            ],
            "text/html": []
          },
          "metadata": {}
        },
        {
          "output_type": "stream",
          "name": "stdout",
          "text": [
            "99.66\n",
            " Average prediction error on test set: 810.55 meV\n",
            "Creating a log file qm7_demoDS2CNN()_black_e8_bandgap_bs60_size30_shuffle_groups_1.log in /content location\n"
          ]
        }
      ]
    },
    {
      "cell_type": "markdown",
      "source": [
        "The accuracy of this model is not particularly high. However, generating a larger number of images per molecule, utilizing a more extensive database, and refining the training process can significantly improve the results."
      ],
      "metadata": {
        "id": "50cBrRT2Ypu2"
      }
    }
  ],
  "metadata": {
    "colab": {
      "provenance": [],
      "gpuType": "T4"
    },
    "kernelspec": {
      "display_name": "Python 3",
      "name": "python3"
    },
    "language_info": {
      "codemirror_mode": {
        "name": "ipython",
        "version": 3
      },
      "file_extension": ".py",
      "mimetype": "text/x-python",
      "name": "python",
      "nbconvert_exporter": "python",
      "pygments_lexer": "ipython3",
      "version": "3.11.5"
    },
    "accelerator": "GPU"
  },
  "nbformat": 4,
  "nbformat_minor": 0
}