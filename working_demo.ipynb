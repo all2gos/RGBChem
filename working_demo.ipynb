{
 "cells": [
  {
   "cell_type": "markdown",
   "metadata": {
    "id": "g51-Vt4BqyoE"
   },
   "source": [
    "# RGBChem"
   ]
  },
  {
   "cell_type": "markdown",
   "metadata": {
    "id": "wUm612Bnq2PH"
   },
   "source": [
    "RGBChem is a procedure for predicting the properties of chemical compounds using the conversion of chemical properties to RGB images.\n",
    "\n",
    "In this Jupyter Notebook we present the main ideas of the whole workflow."
   ]
  },
  {
   "cell_type": "markdown",
   "metadata": {
    "id": "v_tv9gT07MVR"
   },
   "source": [
    "## Loading python files from github (Google Colab only)"
   ]
  },
  {
   "cell_type": "code",
   "execution_count": null,
   "metadata": {
    "colab": {
     "base_uri": "https://localhost:8080/"
    },
    "id": "YmKKq-6J7MVY",
    "outputId": "d2e99cfb-1677-488e-a11b-cd213cc33f1c"
   },
   "outputs": [
    {
     "name": "stdout",
     "output_type": "stream",
     "text": [
      "\u001b[2K     \u001b[90m━━━━━━━━━━━━━━━━━━━━━━━━━━━━━━━━━━━━━━━━\u001b[0m \u001b[32m207.3/207.3 kB\u001b[0m \u001b[31m3.5 MB/s\u001b[0m eta \u001b[36m0:00:00\u001b[0m\n",
      "\u001b[2K     \u001b[90m━━━━━━━━━━━━━━━━━━━━━━━━━━━━━━━━━━━━━━━━\u001b[0m \u001b[32m62.7/62.7 kB\u001b[0m \u001b[31m4.8 MB/s\u001b[0m eta \u001b[36m0:00:00\u001b[0m\n",
      "\u001b[?25h"
     ]
    }
   ],
   "source": [
    "!pip -q install gitpython"
   ]
  },
  {
   "cell_type": "code",
   "execution_count": null,
   "metadata": {
    "id": "VOhBOEi-7MVY"
   },
   "outputs": [],
   "source": [
    "from git import Repo\n",
    "\n",
    "repo_path = '/content/RGBChem'\n",
    "\n",
    "repo_url = 'https://github.com/all2gos/RGBChem.git'\n",
    "\n",
    "Repo.clone_from(repo_url, repo_path)\n",
    "\n",
    "!mv /content/RGBChem/* ."
   ]
  },
  {
   "cell_type": "markdown",
   "metadata": {
    "id": "UiJLnZJ1q63q"
   },
   "source": [
    "## Data Preparation"
   ]
  },
  {
   "cell_type": "markdown",
   "metadata": {
    "id": "KlqrGNCnq9wH"
   },
   "source": [
    "For the purpose of presenting a working demo, we will use a [qm9 database](https://www.nature.com/articles/sdata201422), which contains 133885 organic molecules with up to 9 heavy atoms (CONF)."
   ]
  },
  {
   "cell_type": "code",
   "execution_count": 1,
   "metadata": {
    "id": "nG6yO2Lbq1sk"
   },
   "outputs": [
    {
     "name": "stdout",
     "output_type": "stream",
     "text": [
      "Program did not create new images because DELETE parameter is set to False\n"
     ]
    }
   ],
   "source": [
    "import pandas as pd\n",
    "from scripts.dataloaders import dataloader_conv\n",
    "from scripts.params import *\n",
    "\n",
    "#this function perform database creation, .png files creation and DataLoader and Dataset PyTorch object creation. Moreover it is possible to create\n",
    "#a fastai workflow build on that components which we will show you in this demo.\n",
    "\n",
    "if DELETE == False:\n",
    "  \n",
    "    dl = dataloader_conv()\n",
    "    ds = pd.read_csv(f'{PATH}/qm9.csv')\n",
    "\n",
    "else:\n",
    "    print('DELETE == True') #you probably don't want to set the DELETE == True in this notebook\n"
   ]
  },
  {
   "cell_type": "code",
   "execution_count": 2,
   "metadata": {
    "colab": {
     "base_uri": "https://localhost:8080/",
     "height": 620
    },
    "id": "DPtncEd40LP1",
    "outputId": "03013713-8e7a-42c0-ba2a-bd2d3eca1493"
   },
   "outputs": [
    {
     "data": {
      "text/html": [
       "<div>\n",
       "<style scoped>\n",
       "    .dataframe tbody tr th:only-of-type {\n",
       "        vertical-align: middle;\n",
       "    }\n",
       "\n",
       "    .dataframe tbody tr th {\n",
       "        vertical-align: top;\n",
       "    }\n",
       "\n",
       "    .dataframe thead th {\n",
       "        text-align: right;\n",
       "    }\n",
       "</style>\n",
       "<table border=\"1\" class=\"dataframe\">\n",
       "  <thead>\n",
       "    <tr style=\"text-align: right;\">\n",
       "      <th></th>\n",
       "      <th>Unnamed: 0</th>\n",
       "      <th>ID</th>\n",
       "      <th>A</th>\n",
       "      <th>B</th>\n",
       "      <th>C</th>\n",
       "      <th>Dipole moment</th>\n",
       "      <th>Isotropic Polarizability</th>\n",
       "      <th>Energy of HOMO</th>\n",
       "      <th>Energy of LUMO</th>\n",
       "      <th>bandgap</th>\n",
       "      <th>...</th>\n",
       "      <th>Free energy at 298K</th>\n",
       "      <th>Heat capacity at 298K</th>\n",
       "      <th>n_atoms</th>\n",
       "      <th>atom_type</th>\n",
       "      <th>Number_of_C</th>\n",
       "      <th>Number_of_F</th>\n",
       "      <th>Number_of_N</th>\n",
       "      <th>Number_of_O</th>\n",
       "      <th>Number_of_H</th>\n",
       "      <th>Sum_of_heavy_atoms</th>\n",
       "    </tr>\n",
       "  </thead>\n",
       "  <tbody>\n",
       "    <tr>\n",
       "      <th>0</th>\n",
       "      <td>0</td>\n",
       "      <td>gdb_28954_0</td>\n",
       "      <td>3.15438</td>\n",
       "      <td>1.13871</td>\n",
       "      <td>0.89620</td>\n",
       "      <td>2.5752</td>\n",
       "      <td>72.32</td>\n",
       "      <td>-0.1927</td>\n",
       "      <td>-0.0333</td>\n",
       "      <td>0.1594</td>\n",
       "      <td>...</td>\n",
       "      <td>-437.952342</td>\n",
       "      <td>31.284</td>\n",
       "      <td>16</td>\n",
       "      <td>['O', 'C', 'C', 'C', 'C', 'N', 'C', 'C', 'O', ...</td>\n",
       "      <td>6</td>\n",
       "      <td>0</td>\n",
       "      <td>1</td>\n",
       "      <td>2</td>\n",
       "      <td>7</td>\n",
       "      <td>9</td>\n",
       "    </tr>\n",
       "    <tr>\n",
       "      <th>1</th>\n",
       "      <td>1</td>\n",
       "      <td>gdb_55093_1</td>\n",
       "      <td>3.94212</td>\n",
       "      <td>1.12008</td>\n",
       "      <td>0.96409</td>\n",
       "      <td>3.6752</td>\n",
       "      <td>77.17</td>\n",
       "      <td>-0.2273</td>\n",
       "      <td>0.0537</td>\n",
       "      <td>0.2809</td>\n",
       "      <td>...</td>\n",
       "      <td>-419.246952</td>\n",
       "      <td>33.586</td>\n",
       "      <td>19</td>\n",
       "      <td>['C', 'C', 'C', 'C', 'N', 'C', 'C', 'N', 'O', ...</td>\n",
       "      <td>6</td>\n",
       "      <td>0</td>\n",
       "      <td>2</td>\n",
       "      <td>1</td>\n",
       "      <td>10</td>\n",
       "      <td>9</td>\n",
       "    </tr>\n",
       "    <tr>\n",
       "      <th>2</th>\n",
       "      <td>2</td>\n",
       "      <td>gdb_11864_2</td>\n",
       "      <td>6.10633</td>\n",
       "      <td>1.06881</td>\n",
       "      <td>1.01038</td>\n",
       "      <td>1.9276</td>\n",
       "      <td>68.68</td>\n",
       "      <td>-0.2572</td>\n",
       "      <td>0.0732</td>\n",
       "      <td>0.3304</td>\n",
       "      <td>...</td>\n",
       "      <td>-384.933156</td>\n",
       "      <td>30.024</td>\n",
       "      <td>18</td>\n",
       "      <td>['O', 'C', 'C', 'C', 'C', 'C', 'O', 'C', 'H', ...</td>\n",
       "      <td>6</td>\n",
       "      <td>0</td>\n",
       "      <td>0</td>\n",
       "      <td>2</td>\n",
       "      <td>10</td>\n",
       "      <td>8</td>\n",
       "    </tr>\n",
       "    <tr>\n",
       "      <th>3</th>\n",
       "      <td>3</td>\n",
       "      <td>gdb_42935_3</td>\n",
       "      <td>3.19871</td>\n",
       "      <td>1.22243</td>\n",
       "      <td>0.97474</td>\n",
       "      <td>7.2297</td>\n",
       "      <td>69.94</td>\n",
       "      <td>-0.2537</td>\n",
       "      <td>-0.0360</td>\n",
       "      <td>0.2177</td>\n",
       "      <td>...</td>\n",
       "      <td>-416.817700</td>\n",
       "      <td>28.851</td>\n",
       "      <td>15</td>\n",
       "      <td>['O', 'C', 'C', 'N', 'C', 'C', 'C', 'C', 'N', ...</td>\n",
       "      <td>6</td>\n",
       "      <td>0</td>\n",
       "      <td>2</td>\n",
       "      <td>1</td>\n",
       "      <td>6</td>\n",
       "      <td>9</td>\n",
       "    </tr>\n",
       "    <tr>\n",
       "      <th>4</th>\n",
       "      <td>4</td>\n",
       "      <td>gdb_363_4</td>\n",
       "      <td>9.81743</td>\n",
       "      <td>2.15461</td>\n",
       "      <td>1.81196</td>\n",
       "      <td>3.5856</td>\n",
       "      <td>51.35</td>\n",
       "      <td>-0.2383</td>\n",
       "      <td>0.0670</td>\n",
       "      <td>0.3052</td>\n",
       "      <td>...</td>\n",
       "      <td>-303.819322</td>\n",
       "      <td>25.314</td>\n",
       "      <td>14</td>\n",
       "      <td>['C', 'N', 'C', 'O', 'N', 'C', 'H', 'H', 'H', ...</td>\n",
       "      <td>3</td>\n",
       "      <td>0</td>\n",
       "      <td>2</td>\n",
       "      <td>1</td>\n",
       "      <td>8</td>\n",
       "      <td>6</td>\n",
       "    </tr>\n",
       "  </tbody>\n",
       "</table>\n",
       "<p>5 rows × 26 columns</p>\n",
       "</div>"
      ],
      "text/plain": [
       "   Unnamed: 0           ID        A        B        C  Dipole moment  \\\n",
       "0           0  gdb_28954_0  3.15438  1.13871  0.89620         2.5752   \n",
       "1           1  gdb_55093_1  3.94212  1.12008  0.96409         3.6752   \n",
       "2           2  gdb_11864_2  6.10633  1.06881  1.01038         1.9276   \n",
       "3           3  gdb_42935_3  3.19871  1.22243  0.97474         7.2297   \n",
       "4           4    gdb_363_4  9.81743  2.15461  1.81196         3.5856   \n",
       "\n",
       "   Isotropic Polarizability  Energy of HOMO  Energy of LUMO  bandgap  ...  \\\n",
       "0                     72.32         -0.1927         -0.0333   0.1594  ...   \n",
       "1                     77.17         -0.2273          0.0537   0.2809  ...   \n",
       "2                     68.68         -0.2572          0.0732   0.3304  ...   \n",
       "3                     69.94         -0.2537         -0.0360   0.2177  ...   \n",
       "4                     51.35         -0.2383          0.0670   0.3052  ...   \n",
       "\n",
       "   Free energy at 298K  Heat capacity at 298K  n_atoms  \\\n",
       "0          -437.952342                 31.284       16   \n",
       "1          -419.246952                 33.586       19   \n",
       "2          -384.933156                 30.024       18   \n",
       "3          -416.817700                 28.851       15   \n",
       "4          -303.819322                 25.314       14   \n",
       "\n",
       "                                           atom_type  Number_of_C  \\\n",
       "0  ['O', 'C', 'C', 'C', 'C', 'N', 'C', 'C', 'O', ...            6   \n",
       "1  ['C', 'C', 'C', 'C', 'N', 'C', 'C', 'N', 'O', ...            6   \n",
       "2  ['O', 'C', 'C', 'C', 'C', 'C', 'O', 'C', 'H', ...            6   \n",
       "3  ['O', 'C', 'C', 'N', 'C', 'C', 'C', 'C', 'N', ...            6   \n",
       "4  ['C', 'N', 'C', 'O', 'N', 'C', 'H', 'H', 'H', ...            3   \n",
       "\n",
       "   Number_of_F  Number_of_N  Number_of_O  Number_of_H Sum_of_heavy_atoms  \n",
       "0            0            1            2            7                  9  \n",
       "1            0            2            1           10                  9  \n",
       "2            0            0            2           10                  8  \n",
       "3            0            2            1            6                  9  \n",
       "4            0            2            1            8                  6  \n",
       "\n",
       "[5 rows x 26 columns]"
      ]
     },
     "execution_count": 2,
     "metadata": {},
     "output_type": "execute_result"
    }
   ],
   "source": [
    "ds.drop(['cords','mulliken'],axis=1).head() #showing the initial database"
   ]
  },
  {
   "cell_type": "markdown",
   "metadata": {
    "id": "2dNQVzzotJeJ"
   },
   "source": [
    "### Image Creation"
   ]
  },
  {
   "cell_type": "markdown",
   "metadata": {
    "id": "YT9vJtdZtMwC"
   },
   "source": [
    "The whole procedure is based on the following concepts:\n",
    "\n",
    "- We represent a molecule with $N$ atoms as a matrix of dimensions $(N+m)\\times(N+m)$, where $m$ is some assumed margin that makes all generated images of the same size\n",
    "- In cells where $i=j$ (i.e., on the diagonal of the matrix), we can put information about properties specific to individual atoms (e.g., atomic charge)\n",
    "- In all cells we can include information describing the relationship between atom $i$ and $j$. Values for some properties are present in all cells (e.g. Coulomb charge), some are zeroes on diagonal (e.g. Cartesian distance between atoms)\n",
    "- This leads us to 3 matrices that contain 3 to 6 types of different information.\n",
    "- We scale all the values in the matrices so that each has values in the range $0-255$.\n",
    "- In this way, we obtain 3 matrices that are direct information about the scale of each color in the RGB system -> based on this we generate the corresponding images.\n",
    "\n",
    "\n",
    "One important fact should be kept in mind: a translation or rotation of a molecule does not change its energy or any other property. Still, we can generate lots of images according to the given procedure for the same molecule. We decided to use this fact to augment the data and generate many different images for the same molecule. However in this demo we do not do that."
   ]
  },
  {
   "cell_type": "markdown",
   "metadata": {
    "id": "0wpmESv3WipT"
   },
   "source": [
    "For one matrix, it is necessary to specify parameters from ReaxFF. So far, the most accessible and efficient way is to paste them into a dictionary directly in notebook."
   ]
  },
  {
   "cell_type": "markdown",
   "metadata": {
    "id": "-P88rdTqY-6k"
   },
   "source": [
    "## Fastai approach"
   ]
  },
  {
   "cell_type": "code",
   "execution_count": 2,
   "metadata": {
    "id": "WyZ_2w4EZNp3"
   },
   "outputs": [],
   "source": [
    "from fastai.vision.all import *\n",
    "from scripts.params import *\n",
    "import torch\n",
    "\n",
    "def get_list(path):\n",
    "    l = []\n",
    "    for plik in os.listdir(path):\n",
    "        if os.path.isfile(os.path.join(path, plik)):\n",
    "            l.append(plik)\n",
    "    return l\n",
    "\n",
    "def get_x(r): return f\"{path}/{r['ID']}.png\"\n",
    "def get_y(r): return float(r[PREDICTED_VALUE])\n",
    "\n",
    "\n",
    "\n",
    "path = f'{PATH}/{TRAIN_DIR_NAME}'\n",
    "get_image_files = get_list(path)"
   ]
  },
  {
   "cell_type": "code",
   "execution_count": 3,
   "metadata": {
    "colab": {
     "base_uri": "https://localhost:8080/"
    },
    "id": "48nrOVG2ZaN5",
    "outputId": "a3108e8d-8580-4a41-e8f2-2825354977de"
   },
   "outputs": [
    {
     "name": "stdout",
     "output_type": "stream",
     "text": [
      "120543 out of 133885 samples were selected\n"
     ]
    }
   ],
   "source": [
    "f = os.listdir(f\"{PATH}/{TRAIN_DIR_NAME}\")\n",
    "f = [x[:-4] for x in f]\n",
    "\n",
    "filtered = ds[ds.ID.isin(f)]\n",
    "print(f'{len(filtered)} out of {len(ds)} samples were selected')\n"
   ]
  },
  {
   "cell_type": "code",
   "execution_count": 4,
   "metadata": {
    "colab": {
     "base_uri": "https://localhost:8080/",
     "height": 635
    },
    "id": "FvZ7-GJsZjHt",
    "outputId": "4f0420ca-d540-4a70-f22f-5203cd3f9d50"
   },
   "outputs": [
    {
     "name": "stdout",
     "output_type": "stream",
     "text": [
      "Current batch size: 512\n"
     ]
    },
    {
     "data": {
      "image/png": "[encoded data removed]",
      "text/plain": [
       "<Figure size 1200x900 with 12 Axes>"
      ]
     },
     "metadata": {},
     "output_type": "display_data"
    }
   ],
   "source": [
    "dblock = DataBlock(blocks=(ImageBlock, RegressionBlock),\n",
    "                   get_x=get_x, get_y=get_y,\n",
    "                   splitter=RandomSplitter(valid_pct=0.1, seed=42)).dataloaders(filtered, bs=BATCH_SIZE)\n",
    "\n",
    "print(f'Current batch size: {dblock.bs}')\n",
    "dblock.show_batch(max_n=12)"
   ]
  },
  {
   "cell_type": "markdown",
   "metadata": {
    "id": "tUlozMS-e7fG"
   },
   "source": [
    "## Training the Model"
   ]
  },
  {
   "cell_type": "markdown",
   "metadata": {
    "id": "nCjSdOlCe_V-"
   },
   "source": [
    "For the demo purpose, we choose HOMO-LUMO Gap as the property to predict. And because of the simplicity and transparency of the fastai library, we use that library in this demo to carry out the machine learning workflow. We choose a very simple architecture for learning, which takes very little time to train.\n",
    "\n",
    "In the standard workflow, we will build the model using clear PyTorch to have more control over the training process."
   ]
  },
  {
   "cell_type": "code",
   "execution_count": 5,
   "metadata": {
    "colab": {
     "base_uri": "https://localhost:8080/",
     "height": 1000
    },
    "id": "ZzlOZpK1fagi",
    "outputId": "7c6a6671-985a-416f-b8e4-cbe7c8aedb35"
   },
   "outputs": [
    {
     "data": {
      "text/html": [
       "\n",
       "<style>\n",
       "    /* Turns off some styling */\n",
       "    progress {\n",
       "        /* gets rid of default border in Firefox and Opera. */\n",
       "        border: none;\n",
       "        /* Needs to be in here for Safari polyfill so background images work as expected. */\n",
       "        background-size: auto;\n",
       "    }\n",
       "    progress:not([value]), progress:not([value])::-webkit-progress-bar {\n",
       "        background: repeating-linear-gradient(45deg, #7e7e7e, #7e7e7e 10px, #5c5c5c 10px, #5c5c5c 20px);\n",
       "    }\n",
       "    .progress-bar-interrupted, .progress-bar-interrupted::-webkit-progress-bar {\n",
       "        background: #F44336;\n",
       "    }\n",
       "</style>\n"
      ],
      "text/plain": [
       "<IPython.core.display.HTML object>"
      ]
     },
     "metadata": {},
     "output_type": "display_data"
    },
    {
     "data": {
      "text/html": [
       "<table border=\"1\" class=\"dataframe\">\n",
       "  <thead>\n",
       "    <tr style=\"text-align: left;\">\n",
       "      <th>epoch</th>\n",
       "      <th>train_loss</th>\n",
       "      <th>valid_loss</th>\n",
       "      <th>mae</th>\n",
       "      <th>time</th>\n",
       "    </tr>\n",
       "  </thead>\n",
       "  <tbody>\n",
       "    <tr>\n",
       "      <td>0</td>\n",
       "      <td>0.482811</td>\n",
       "      <td>0.017041</td>\n",
       "      <td>0.105527</td>\n",
       "      <td>00:18</td>\n",
       "    </tr>\n",
       "  </tbody>\n",
       "</table>"
      ],
      "text/plain": [
       "<IPython.core.display.HTML object>"
      ]
     },
     "metadata": {},
     "output_type": "display_data"
    },
    {
     "name": "stdout",
     "output_type": "stream",
     "text": [
      "Better model found at epoch 0 with valid_loss value: 0.01704082079231739.\n"
     ]
    },
    {
     "data": {
      "text/html": [
       "\n",
       "<style>\n",
       "    /* Turns off some styling */\n",
       "    progress {\n",
       "        /* gets rid of default border in Firefox and Opera. */\n",
       "        border: none;\n",
       "        /* Needs to be in here for Safari polyfill so background images work as expected. */\n",
       "        background-size: auto;\n",
       "    }\n",
       "    progress:not([value]), progress:not([value])::-webkit-progress-bar {\n",
       "        background: repeating-linear-gradient(45deg, #7e7e7e, #7e7e7e 10px, #5c5c5c 10px, #5c5c5c 20px);\n",
       "    }\n",
       "    .progress-bar-interrupted, .progress-bar-interrupted::-webkit-progress-bar {\n",
       "        background: #F44336;\n",
       "    }\n",
       "</style>\n"
      ],
      "text/plain": [
       "<IPython.core.display.HTML object>"
      ]
     },
     "metadata": {},
     "output_type": "display_data"
    },
    {
     "data": {
      "text/html": [
       "<table border=\"1\" class=\"dataframe\">\n",
       "  <thead>\n",
       "    <tr style=\"text-align: left;\">\n",
       "      <th>epoch</th>\n",
       "      <th>train_loss</th>\n",
       "      <th>valid_loss</th>\n",
       "      <th>mae</th>\n",
       "      <th>time</th>\n",
       "    </tr>\n",
       "  </thead>\n",
       "  <tbody>\n",
       "    <tr>\n",
       "      <td>0</td>\n",
       "      <td>0.031459</td>\n",
       "      <td>0.007382</td>\n",
       "      <td>0.073155</td>\n",
       "      <td>00:28</td>\n",
       "    </tr>\n",
       "    <tr>\n",
       "      <td>1</td>\n",
       "      <td>0.015571</td>\n",
       "      <td>0.003681</td>\n",
       "      <td>0.049103</td>\n",
       "      <td>00:27</td>\n",
       "    </tr>\n",
       "    <tr>\n",
       "      <td>2</td>\n",
       "      <td>0.009409</td>\n",
       "      <td>0.004772</td>\n",
       "      <td>0.043326</td>\n",
       "      <td>00:26</td>\n",
       "    </tr>\n",
       "    <tr>\n",
       "      <td>3</td>\n",
       "      <td>0.006260</td>\n",
       "      <td>0.001887</td>\n",
       "      <td>0.035018</td>\n",
       "      <td>00:26</td>\n",
       "    </tr>\n",
       "    <tr>\n",
       "      <td>4</td>\n",
       "      <td>0.004679</td>\n",
       "      <td>0.001436</td>\n",
       "      <td>0.030609</td>\n",
       "      <td>00:26</td>\n",
       "    </tr>\n",
       "    <tr>\n",
       "      <td>5</td>\n",
       "      <td>0.003836</td>\n",
       "      <td>0.001586</td>\n",
       "      <td>0.031061</td>\n",
       "      <td>00:26</td>\n",
       "    </tr>\n",
       "    <tr>\n",
       "      <td>6</td>\n",
       "      <td>0.003296</td>\n",
       "      <td>0.001381</td>\n",
       "      <td>0.029966</td>\n",
       "      <td>00:26</td>\n",
       "    </tr>\n",
       "    <tr>\n",
       "      <td>7</td>\n",
       "      <td>0.002586</td>\n",
       "      <td>0.001427</td>\n",
       "      <td>0.029944</td>\n",
       "      <td>00:26</td>\n",
       "    </tr>\n",
       "    <tr>\n",
       "      <td>8</td>\n",
       "      <td>0.002466</td>\n",
       "      <td>0.001191</td>\n",
       "      <td>0.027411</td>\n",
       "      <td>00:26</td>\n",
       "    </tr>\n",
       "    <tr>\n",
       "      <td>9</td>\n",
       "      <td>0.002627</td>\n",
       "      <td>0.001353</td>\n",
       "      <td>0.028091</td>\n",
       "      <td>00:26</td>\n",
       "    </tr>\n",
       "    <tr>\n",
       "      <td>10</td>\n",
       "      <td>0.002034</td>\n",
       "      <td>0.001141</td>\n",
       "      <td>0.026935</td>\n",
       "      <td>00:26</td>\n",
       "    </tr>\n",
       "    <tr>\n",
       "      <td>11</td>\n",
       "      <td>0.001886</td>\n",
       "      <td>0.001106</td>\n",
       "      <td>0.026494</td>\n",
       "      <td>00:26</td>\n",
       "    </tr>\n",
       "    <tr>\n",
       "      <td>12</td>\n",
       "      <td>0.001720</td>\n",
       "      <td>0.000978</td>\n",
       "      <td>0.024273</td>\n",
       "      <td>00:26</td>\n",
       "    </tr>\n",
       "    <tr>\n",
       "      <td>13</td>\n",
       "      <td>0.001623</td>\n",
       "      <td>0.000937</td>\n",
       "      <td>0.024029</td>\n",
       "      <td>00:26</td>\n",
       "    </tr>\n",
       "    <tr>\n",
       "      <td>14</td>\n",
       "      <td>0.001463</td>\n",
       "      <td>0.000823</td>\n",
       "      <td>0.022690</td>\n",
       "      <td>00:26</td>\n",
       "    </tr>\n",
       "    <tr>\n",
       "      <td>15</td>\n",
       "      <td>0.001444</td>\n",
       "      <td>0.000882</td>\n",
       "      <td>0.023484</td>\n",
       "      <td>00:26</td>\n",
       "    </tr>\n",
       "    <tr>\n",
       "      <td>16</td>\n",
       "      <td>0.001305</td>\n",
       "      <td>0.000786</td>\n",
       "      <td>0.021688</td>\n",
       "      <td>00:26</td>\n",
       "    </tr>\n",
       "    <tr>\n",
       "      <td>17</td>\n",
       "      <td>0.001211</td>\n",
       "      <td>0.000731</td>\n",
       "      <td>0.020732</td>\n",
       "      <td>00:27</td>\n",
       "    </tr>\n",
       "    <tr>\n",
       "      <td>18</td>\n",
       "      <td>0.001154</td>\n",
       "      <td>0.000691</td>\n",
       "      <td>0.020176</td>\n",
       "      <td>00:27</td>\n",
       "    </tr>\n",
       "    <tr>\n",
       "      <td>19</td>\n",
       "      <td>0.001107</td>\n",
       "      <td>0.000848</td>\n",
       "      <td>0.022866</td>\n",
       "      <td>00:27</td>\n",
       "    </tr>\n",
       "    <tr>\n",
       "      <td>20</td>\n",
       "      <td>0.001016</td>\n",
       "      <td>0.000650</td>\n",
       "      <td>0.019548</td>\n",
       "      <td>00:27</td>\n",
       "    </tr>\n",
       "    <tr>\n",
       "      <td>21</td>\n",
       "      <td>0.001024</td>\n",
       "      <td>0.000569</td>\n",
       "      <td>0.018153</td>\n",
       "      <td>00:27</td>\n",
       "    </tr>\n",
       "    <tr>\n",
       "      <td>22</td>\n",
       "      <td>0.000887</td>\n",
       "      <td>0.000550</td>\n",
       "      <td>0.017715</td>\n",
       "      <td>00:26</td>\n",
       "    </tr>\n",
       "    <tr>\n",
       "      <td>23</td>\n",
       "      <td>0.000925</td>\n",
       "      <td>0.000558</td>\n",
       "      <td>0.017746</td>\n",
       "      <td>00:27</td>\n",
       "    </tr>\n",
       "    <tr>\n",
       "      <td>24</td>\n",
       "      <td>0.000823</td>\n",
       "      <td>0.000860</td>\n",
       "      <td>0.024050</td>\n",
       "      <td>00:26</td>\n",
       "    </tr>\n",
       "    <tr>\n",
       "      <td>25</td>\n",
       "      <td>0.000799</td>\n",
       "      <td>0.000624</td>\n",
       "      <td>0.019145</td>\n",
       "      <td>00:26</td>\n",
       "    </tr>\n",
       "    <tr>\n",
       "      <td>26</td>\n",
       "      <td>0.000745</td>\n",
       "      <td>0.000519</td>\n",
       "      <td>0.017396</td>\n",
       "      <td>00:26</td>\n",
       "    </tr>\n",
       "    <tr>\n",
       "      <td>27</td>\n",
       "      <td>0.000768</td>\n",
       "      <td>0.000549</td>\n",
       "      <td>0.018054</td>\n",
       "      <td>00:27</td>\n",
       "    </tr>\n",
       "    <tr>\n",
       "      <td>28</td>\n",
       "      <td>0.000752</td>\n",
       "      <td>0.000592</td>\n",
       "      <td>0.019095</td>\n",
       "      <td>00:26</td>\n",
       "    </tr>\n",
       "    <tr>\n",
       "      <td>29</td>\n",
       "      <td>0.000664</td>\n",
       "      <td>0.000525</td>\n",
       "      <td>0.017619</td>\n",
       "      <td>00:27</td>\n",
       "    </tr>\n",
       "    <tr>\n",
       "      <td>30</td>\n",
       "      <td>0.000678</td>\n",
       "      <td>0.000486</td>\n",
       "      <td>0.016480</td>\n",
       "      <td>00:27</td>\n",
       "    </tr>\n",
       "    <tr>\n",
       "      <td>31</td>\n",
       "      <td>0.000642</td>\n",
       "      <td>0.000859</td>\n",
       "      <td>0.023572</td>\n",
       "      <td>00:26</td>\n",
       "    </tr>\n",
       "    <tr>\n",
       "      <td>32</td>\n",
       "      <td>0.000592</td>\n",
       "      <td>0.000462</td>\n",
       "      <td>0.016003</td>\n",
       "      <td>00:27</td>\n",
       "    </tr>\n",
       "    <tr>\n",
       "      <td>33</td>\n",
       "      <td>0.000617</td>\n",
       "      <td>0.001195</td>\n",
       "      <td>0.029565</td>\n",
       "      <td>00:26</td>\n",
       "    </tr>\n",
       "    <tr>\n",
       "      <td>34</td>\n",
       "      <td>0.000564</td>\n",
       "      <td>0.000521</td>\n",
       "      <td>0.017530</td>\n",
       "      <td>00:26</td>\n",
       "    </tr>\n",
       "    <tr>\n",
       "      <td>35</td>\n",
       "      <td>0.000561</td>\n",
       "      <td>0.000884</td>\n",
       "      <td>0.024788</td>\n",
       "      <td>00:26</td>\n",
       "    </tr>\n",
       "    <tr>\n",
       "      <td>36</td>\n",
       "      <td>0.000538</td>\n",
       "      <td>0.000504</td>\n",
       "      <td>0.016901</td>\n",
       "      <td>00:26</td>\n",
       "    </tr>\n",
       "    <tr>\n",
       "      <td>37</td>\n",
       "      <td>0.000470</td>\n",
       "      <td>0.000499</td>\n",
       "      <td>0.016781</td>\n",
       "      <td>00:26</td>\n",
       "    </tr>\n",
       "    <tr>\n",
       "      <td>38</td>\n",
       "      <td>0.000496</td>\n",
       "      <td>0.000557</td>\n",
       "      <td>0.018486</td>\n",
       "      <td>00:26</td>\n",
       "    </tr>\n",
       "    <tr>\n",
       "      <td>39</td>\n",
       "      <td>0.000454</td>\n",
       "      <td>0.000532</td>\n",
       "      <td>0.018006</td>\n",
       "      <td>00:27</td>\n",
       "    </tr>\n",
       "  </tbody>\n",
       "</table>"
      ],
      "text/plain": [
       "<IPython.core.display.HTML object>"
      ]
     },
     "metadata": {},
     "output_type": "display_data"
    },
    {
     "name": "stdout",
     "output_type": "stream",
     "text": [
      "Better model found at epoch 0 with valid_loss value: 0.007381501141935587.\n",
      "Better model found at epoch 1 with valid_loss value: 0.0036805758718401194.\n",
      "Better model found at epoch 3 with valid_loss value: 0.0018868306651711464.\n",
      "Better model found at epoch 4 with valid_loss value: 0.0014364735689014196.\n",
      "Better model found at epoch 6 with valid_loss value: 0.0013808389194309711.\n",
      "Better model found at epoch 8 with valid_loss value: 0.001191111165098846.\n",
      "Better model found at epoch 10 with valid_loss value: 0.001140619977377355.\n",
      "Better model found at epoch 11 with valid_loss value: 0.0011059714015573263.\n",
      "Better model found at epoch 12 with valid_loss value: 0.0009782094275578856.\n",
      "Better model found at epoch 13 with valid_loss value: 0.0009373568464070559.\n",
      "Better model found at epoch 14 with valid_loss value: 0.0008231653482653201.\n",
      "Better model found at epoch 16 with valid_loss value: 0.0007857896853238344.\n",
      "Better model found at epoch 17 with valid_loss value: 0.0007307981722988188.\n",
      "Better model found at epoch 18 with valid_loss value: 0.000690729299094528.\n",
      "Better model found at epoch 20 with valid_loss value: 0.0006497632130049169.\n",
      "Better model found at epoch 21 with valid_loss value: 0.0005689886165782809.\n",
      "Better model found at epoch 22 with valid_loss value: 0.0005496384692378342.\n",
      "Better model found at epoch 26 with valid_loss value: 0.000519189634360373.\n",
      "Better model found at epoch 30 with valid_loss value: 0.0004863766662310809.\n",
      "Better model found at epoch 32 with valid_loss value: 0.00046247700811363757.\n",
      "No improvement since epoch 32: early stopping\n"
     ]
    }
   ],
   "source": [
    "\n",
    "learn = vision_learner(dblock, resnet18, metrics=mae, lr=LEARNING_RATE)\n",
    "saving_callbacks = SaveModelCallback(monitor='valid_loss', comp=np.less, min_delta=DELTA, fname=f\"{PATH}/{LOG_FILE.replace('.log','checkpoint_fastai')}\")\n",
    "early_stopping_cb = EarlyStoppingCallback (monitor='valid_loss', comp=np.less, min_delta=DELTA, patience=PATIENCE)\n",
    "\n",
    "#learn = load_learner('qm9_e512_bandgap_bs64_fastai.pth')\n",
    "\n",
    "#learn.validate()\n",
    "learn.fine_tune(EPOCHS, cbs=[early_stopping_cb, saving_callbacks]) #~2 minutes training on T4 GPU\n",
    "#learn.export(f\"{PATH}/{LOG_FILE.replace('.log','_fastai')}\")"
   ]
  },
  {
   "cell_type": "code",
   "execution_count": 6,
   "metadata": {
    "colab": {
     "base_uri": "https://localhost:8080/",
     "height": 34
    },
    "id": "79jea8XTmyAV",
    "outputId": "f7d85cff-7efc-4cf0-b4ac-94e0bd1e338e"
   },
   "outputs": [
    {
     "data": {
      "text/html": [
       "\n",
       "<style>\n",
       "    /* Turns off some styling */\n",
       "    progress {\n",
       "        /* gets rid of default border in Firefox and Opera. */\n",
       "        border: none;\n",
       "        /* Needs to be in here for Safari polyfill so background images work as expected. */\n",
       "        background-size: auto;\n",
       "    }\n",
       "    progress:not([value]), progress:not([value])::-webkit-progress-bar {\n",
       "        background: repeating-linear-gradient(45deg, #7e7e7e, #7e7e7e 10px, #5c5c5c 10px, #5c5c5c 20px);\n",
       "    }\n",
       "    .progress-bar-interrupted, .progress-bar-interrupted::-webkit-progress-bar {\n",
       "        background: #F44336;\n",
       "    }\n",
       "</style>\n"
      ],
      "text/plain": [
       "<IPython.core.display.HTML object>"
      ]
     },
     "metadata": {},
     "output_type": "display_data"
    },
    {
     "data": {
      "text/html": [],
      "text/plain": [
       "<IPython.core.display.HTML object>"
      ]
     },
     "metadata": {},
     "output_type": "display_data"
    },
    {
     "name": "stdout",
     "output_type": "stream",
     "text": [
      "1.00\n",
      " Average prediction error on test set: 443.72 meV\n"
     ]
    }
   ],
   "source": [
    "test_files = os.listdir(f\"{PATH}/{TEST_DIR_NAME}\")\n",
    "test_data = [PILImage.create(f'{PATH}/{TEST_DIR_NAME}/{file}') for file in test_files]\n",
    "test_dl = learn.dls.test_dl(test_data)\n",
    "preds, _ = learn.get_preds(dl=test_dl)\n",
    "\n",
    "err = []\n",
    "for idx in range(len(test_files)):\n",
    "    print(f'\\r{idx/len(test_files):.2f}',end='')\n",
    "    actual = ds[PREDICTED_VALUE].loc[ds.ID == test_files[idx][:-4]].values[0]\n",
    "    err.append(np.abs(preds[idx].item() - float(actual)))\n",
    "\n",
    "print(f\"\\n Average prediction error on test set: {sum(err)/len(err)*27211:.2f} meV\")"
   ]
  }
 ],
 "metadata": {
  "accelerator": "GPU",
  "colab": {
   "gpuType": "T4",
   "provenance": [],
   "toc_visible": true
  },
  "kernelspec": {
   "display_name": "Python 3 (ipykernel)",
   "language": "python",
   "name": "python3"
  },
  "language_info": {
   "codemirror_mode": {
    "name": "ipython",
    "version": 3
   },
   "file_extension": ".py",
   "mimetype": "text/x-python",
   "name": "python",
   "nbconvert_exporter": "python",
   "pygments_lexer": "ipython3",
   "version": "3.12.3"
  }
 },
 "nbformat": 4,
 "nbformat_minor": 4
}
